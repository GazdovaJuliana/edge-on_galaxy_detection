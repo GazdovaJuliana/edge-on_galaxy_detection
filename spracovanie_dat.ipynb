{
 "cells": [
  {
   "cell_type": "markdown",
   "id": "6c71da77-4ee3-4487-8aca-faece6c6ed0c",
   "metadata": {},
   "source": [
    "# Spracovanie a analýza dát galaxií s využitím hlbokého učenia"
   ]
  },
  {
   "cell_type": "markdown",
   "id": "e81cfe11-7fae-43b6-b8af-bce8969fb911",
   "metadata": {},
   "source": [
    "## Priprava pracovného prostredia na spracovanie dát"
   ]
  },
  {
   "cell_type": "markdown",
   "id": "2ceacccf-306d-4757-840c-8b7cf591bb84",
   "metadata": {},
   "source": [
    "Inštalácia knižníc"
   ]
  },
  {
   "cell_type": "code",
   "execution_count": null,
   "id": "a26c0220-8f7a-4476-b9b5-803077840fc4",
   "metadata": {},
   "outputs": [],
   "source": [
    "!pip install opencv-python \n",
    "!pip install python_utils\n",
    "!pip install python-csv\n",
    "!pip install pandas\n",
    "!pip install jsonlib\n",
    "!pip install aplpy"
   ]
  },
  {
   "cell_type": "markdown",
   "id": "6890a56d-583b-4cc2-aba5-258ebce5bf49",
   "metadata": {},
   "source": [
    "import potrebných knižníc"
   ]
  },
  {
   "cell_type": "code",
   "execution_count": null,
   "id": "daa994f1-c440-4d62-b1bf-55cc4a327ecb",
   "metadata": {},
   "outputs": [],
   "source": [
    "import pandas as pd\n",
    "import os\n",
    "import json\n",
    "import csv\n",
    "import matplotlib.pyplot as plt\n",
    "import aplpy\n",
    "import cv2"
   ]
  },
  {
   "cell_type": "markdown",
   "id": "f9d2cfba-ca48-4495-b7d2-b46afc796f5f",
   "metadata": {},
   "source": [
    "## Príprava dát "
   ]
  },
  {
   "cell_type": "markdown",
   "id": "915b9378-3001-461e-9609-89ac3035c755",
   "metadata": {},
   "source": [
    "Konvertovanie FIT súborov do jpg súborov"
   ]
  },
  {
   "cell_type": "code",
   "execution_count": null,
   "id": "884fb8a1-b488-4c29-97e6-f12c26201ce9",
   "metadata": {},
   "outputs": [],
   "source": [
    "path = './data/'\n",
    "destination = './pictures2/'\n",
    "\n",
    "def convert_data():\n",
    "    i = 0\n",
    "    \n",
    "    for index, file in enumerate(os.listdir(path)):\n",
    "        file_name = file.split(\".\")[0]\n",
    "\n",
    "        if i < 12200:\n",
    "            i += 1\n",
    "            continue\n",
    "        # if file_name + '.jpg' in os.listdir(destination):\n",
    "            # continue\n",
    "        \n",
    "\n",
    "        gc = aplpy.FITSFigure(path + file).show_grayscale(invert=False, stretch='power', exponent=0.5)\n",
    "\n",
    "        plt.savefig(destination + '{}.jpg'.format(file_name), format='jpg', bbox_inches=\"tight\")\n"
   ]
  },
  {
   "cell_type": "markdown",
   "id": "ad4a32f3-a37c-415a-b297-fb06b2c4ff68",
   "metadata": {},
   "source": [
    "Vytvorenie textových súborov so súradnicami pre neurónovú sieť YOLO"
   ]
  },
  {
   "cell_type": "code",
   "execution_count": null,
   "id": "97c63071-f741-4904-a862-a08aa77e38e5",
   "metadata": {},
   "outputs": [],
   "source": [
    "data_path = \"detekcia-edge-on-galaxii-classifications.csv\"\n",
    "data = pd.read_csv(data_path)\n",
    "# os.makedirs(\"txt\", exist_ok=True)\n",
    "destination = f\"{os.getcwd()}/yolo/galaxies/labels\"\n",
    "\n",
    "null_size_data = []\n",
    "\n",
    "for i in range(len(data)):\n",
    "    tasks = json.loads(data.iloc[i, 11])\n",
    "    is_galaxy = tasks[0][\"value\"]\n",
    "    if is_galaxy != \"Áno\":\n",
    "        continue\n",
    "\n",
    "    annotations = tasks[1][\"value\"]\n",
    "    subject_data = json.loads(data.iloc[i, 12])\n",
    "    metadata = json.loads(data.iloc[i, 10])\n",
    "    subject_id = str(data.iloc[i,13])\n",
    "    try:\n",
    "        image_name = subject_data[subject_id][\"Filename\"].split(\".\")[0]\n",
    "        image_data = metadata[\"subject_dimensions\"][0]\n",
    "        image_width = image_data[\"naturalWidth\"]\n",
    "        image_height = image_data[\"naturalHeight\"]\n",
    "    except TypeError:\n",
    "        null_size_data.append(image_name)\n",
    "\n",
    "    with open(os.path.join(destination, f\"{image_name}.txt\"), mode='w') as txt_file:\n",
    "        for annotation in annotations:\n",
    "            x = annotation[\"x\"]\n",
    "            y = annotation[\"y\"]\n",
    "            width = annotation[\"width\"]\n",
    "            height = annotation[\"height\"]\n",
    "\n",
    "            fieldnames1 = [0, round((x+(width/2))/image_width, 5), round((y+(height/2))/image_height, 5), round(width/image_width, 5), round(height/image_height,5)]\n",
    "\n",
    "            writer = csv.DictWriter(txt_file, fieldnames=fieldnames1, delimiter=' ')\n",
    "            writer.writeheader()\n",
    "            print(f\"Just made normalized txt file for {image_name}\")\n",
    "\n",
    "print(f\"Corrupted size data: {len(null_size_data)}\")\n",
    "print(null_size_data)"
   ]
  },
  {
   "cell_type": "markdown",
   "id": "cb36295b-4d2e-4fd7-b926-d177727a4dce",
   "metadata": {},
   "source": [
    "## Treshold"
   ]
  },
  {
   "cell_type": "markdown",
   "id": "51303fcb-6322-4026-ad5f-d111dea4fd16",
   "metadata": {},
   "source": [
    "Vystrihnutie jednotlyvých galaxií pomocou súradníc"
   ]
  },
  {
   "cell_type": "code",
   "execution_count": null,
   "id": "46f83325-fadf-490b-ae96-825d3b27b2c5",
   "metadata": {},
   "outputs": [],
   "source": [
    "# paths to folder with images, labels and path where you want to save your cropped images\n",
    "#detected images had a red rectangle when cropped, use the images you used for detecting\n",
    "image_path = r'./testovacia'\n",
    "labels_path = r'./yolov5/runs/detect/exp36/labels'\n",
    "path = r'./exp36_cropped_galaxies'\n",
    "\n",
    "\n",
    "def crop_image(coords: str, img: np.ndarray, image_name: str):\n",
    "    #height and width of full image\n",
    "    dh, dw, _ = img.shape\n",
    "\n",
    "    #translating normalized coordinations for cutting the image\n",
    "    box = coords\n",
    "    # outputed yolov5 labels gives 6 values 6th is confidence\n",
    "    class_id, x_center, y_center, w, h, _ = box.strip().split()\n",
    "    x_center, y_center, w, h = float(x_center), float(y_center), float(w), float(h)\n",
    "    x_center = round(x_center * dw)\n",
    "    y_center = round(y_center * dh)\n",
    "    w = round(w * dw)\n",
    "    h = round(h * dh)\n",
    "    x = round(x_center - w / 2)\n",
    "    y = round(y_center - h / 2)\n",
    "\n",
    "    cropped_image = img[y:y + h, x:x + w]\n",
    "\n",
    "    # Saving the image\n",
    "    cv2.imwrite(os.path.join(path, image_name), cropped_image)\n",
    "\n",
    "\n",
    "def crop_and_save():\n",
    "    labels = os.listdir(labels_path)\n",
    "    print(\"Processing images...\")\n",
    "    #finfing image for each label\n",
    "    for label in labels:\n",
    "        label_name = label.split('.')[0]\n",
    "\n",
    "        img = cv2.imread(fr\"{image_path}/{label_name}.jpg\")\n",
    "\n",
    "        file = open(fr\"{labels_path}/{label}\", 'r')\n",
    "        lines = file.readlines()\n",
    "        #sending each coord to crop_image\n",
    "        for i, line in enumerate(lines):\n",
    "            crop_image(line, img, f\"{label_name} - {i}.jpg\")\n",
    "\n",
    "\n",
    "crop_and_save()"
   ]
  },
  {
   "cell_type": "markdown",
   "id": "e6d728c2-3e0e-48cd-a8a4-39970456ae6e",
   "metadata": {},
   "source": [
    "Tresholdovanie vystrihnutých galaxií"
   ]
  },
  {
   "cell_type": "code",
   "execution_count": null,
   "id": "46de6f43-7c1b-4534-8cef-25b59eb5382b",
   "metadata": {},
   "outputs": [],
   "source": [
    "image_path = r'./cropped_galaxies'\n",
    "path = r'./exp36_masks'\n",
    "\n",
    "images = os.listdir(image_path)\n",
    "\n",
    "# image is loaded with imread command\n",
    "for image_file in images:\n",
    "    image_name = image_file.split(\".\")[0]\n",
    "    image = cv2.imread(fr\"{image_path}/{image_name}.jpg\")\n",
    "\n",
    "    # cv2.cvtColor is applied over the\n",
    "    # image input with applied parameters\n",
    "    # to convert the image in grayscale\n",
    "    image_gray = cv2.cvtColor(image, cv2.COLOR_BGR2GRAY)\n",
    "\n",
    "    thresh, im_bw = cv2.threshold(image_gray, 0, 255, cv2.THRESH_BINARY + cv2.THRESH_OTSU)\n",
    "    print(\"Thresh: \", thresh)\n",
    "\n",
    "    kernel = np.ones((2, 2), np.uint8)\n",
    "    mask = cv2.erode(im_bw, kernel)\n",
    "    #mask = cv2.morphologyEx(im_bw, cv2.MORPH_OPEN, kernel)\n",
    "\n",
    "    #saving image\n",
    "    cv2.imwrite(os.path.join(path, f\"{image_name}.jpg\"), mask)"
   ]
  },
  {
   "cell_type": "markdown",
   "id": "90077cc9-a82e-4f3d-9d2e-105cb511769a",
   "metadata": {},
   "source": [
    "## Vrátenie vystrihnutých masiek do fullsize fotky\n"
   ]
  },
  {
   "cell_type": "code",
   "execution_count": null,
   "id": "891c5d54-61b5-4485-8674-185f980b2f10",
   "metadata": {},
   "outputs": [],
   "source": [
    "whole_galaxies_path = r'C:\\Users\\Administrator\\Desktop\\skola\\3.rok\\BP\\codes\\crop\\test_set\\test_whole_galaxies'\n",
    "labels_path = r'C:\\Users\\Administrator\\Desktop\\skola\\3.rok\\BP\\codes\\crop\\test_set\\test_coords'\n",
    "masks_path = r'C:\\Users\\Administrator\\Desktop\\skola\\3.rok\\BP\\codes\\crop\\test_set\\test_cropped_masks'\n",
    "dest_path = r'C:\\Users\\Administrator\\Desktop\\skola\\3.rok\\BP\\codes\\crop\\test_set\\image_masks'\n",
    "\n",
    "\n",
    "def paste_image(coords: str, img: np.ndarray, image_name: str, mask: np.ndarray):\n",
    "    dh, dw = img.shape\n",
    "\n",
    "    box = coords\n",
    "    class_id, x_center, y_center, w, h, _ = box.strip().split()\n",
    "    x_center, y_center, w, h = float(x_center), float(y_center), float(w), float(h)\n",
    "    x_center = round(x_center * dw)\n",
    "    y_center = round(y_center * dh)\n",
    "    w = round(w * dw)\n",
    "    h = round(h * dh)\n",
    "\n",
    "    x = round(x_center - w / 2)\n",
    "    y = round(y_center - h / 2)\n",
    "\n",
    "    img[y:y + mask.shape[0], x:x + mask.shape[1]] = mask\n",
    "\n",
    "    # Saving the image\n",
    "    cv2.imwrite(os.path.join(dest_path, image_name), img)\n",
    "\n",
    "\n",
    "def paste_image_and_save():\n",
    "    masks = os.listdir(masks_path)\n",
    "    print(\"Processing images...\")\n",
    "    missing_images = []\n",
    "    missing_coords = []\n",
    "\n",
    "    for mask in masks:\n",
    "        print(mask)\n",
    "        mask_image = cv2.imread(fr\"{masks_path}\\{mask}\")\n",
    "        # deleting 3rd dimension of mask\n",
    "        mask_image = mask_image[:, :, 0]\n",
    "\n",
    "        mask_name, _, rank = mask.split(\".\")[0].split(' ')\n",
    "        rank = int(rank)\n",
    "        print(f\"{mask}: {mask_name}, {rank}\")\n",
    "        img = cv2.imread(fr\"{whole_galaxies_path}\\{mask_name}.jpg\", 0)\n",
    "\n",
    "        # painting image to black\n",
    "        try:\n",
    "            img *= 0\n",
    "        except TypeError:\n",
    "            missing_images.append(mask_name)\n",
    "\n",
    "        try:\n",
    "            file = open(fr\"{labels_path}\\{mask_name}.txt\", 'r')\n",
    "            coords = file.readlines()[rank]\n",
    "\n",
    "            paste_image(coords, img, mask, mask_image)\n",
    "            file.close()\n",
    "        except FileNotFoundError:\n",
    "            missing_coords.append(mask_name)\n",
    "\n",
    "    print(\"Printing missing images:\")\n",
    "    for image in missing_images:\n",
    "        print(image)\n",
    "\n",
    "    print(\"Printing missing coordinates:\")\n",
    "    for coords in missing_coords:\n",
    "        print(coords)\n",
    "\n",
    "paste_image_and_save()"
   ]
  },
  {
   "cell_type": "markdown",
   "id": "7726e9a0-6972-4818-b141-739486b5227c",
   "metadata": {},
   "source": [
    "# Extrakcia dát zo súborov FIT"
   ]
  },
  {
   "cell_type": "code",
   "execution_count": null,
   "id": "8cac41c4-b055-4c44-857c-30954f6d018a",
   "metadata": {},
   "outputs": [],
   "source": [
    "import aplpy\n",
    "import cv2\n",
    "import numpy as np\n",
    "from PIL import Image\n",
    "from astropy.io import fits\n",
    "from matplotlib import pyplot as plt\n",
    "\n",
    "# Define the paths to the FITS file and the mask in JPG format\n",
    "fits_file_path = 'fpC-005087-r2-0160.fit.gz'\n",
    "mask_file_path = 'fpC-005087-r2-0160 - 1.jpg'\n",
    "\n",
    "# Open the FITS file\n",
    "with fits.open(fits_file_path) as hdul:\n",
    "    # Access the data array of the primary HDU (assuming it's the first extension)\n",
    "    data = hdul[0].data\n",
    "\n",
    "    # Open the mask image\n",
    "    mask_image = Image.open(mask_file_path)\n",
    "    # mask_image = cv2.imread(mask_file_path)\n",
    "    desired_width = data.shape[1]\n",
    "    desired_height = data.shape[0]\n",
    "\n",
    "    # Resize the mask image while maintaining the original shape\n",
    "    resized_mask = mask_image.resize((desired_width, desired_height), resample=Image.NEAREST)\n",
    "    # resized_mask.show()\n",
    "    resized_mask.save(\"fpC-005087-r2-0160_resized_mask.jpg\")\n",
    "\n",
    "    resized_mask = cv2.imread(\"fpC-005087-r2-0160_resized_mask.jpg\")\n",
    "    resized_mask = resized_mask[:, :, 0]\n",
    "\n",
    "    \n",
    "    resized_mask = resized_mask[::-1]\n",
    "    bin_mask = (resized_mask < 50)\n",
    "    new_image = np.copy(data)\n",
    "    new_image[bin_mask] = resized_mask[bin_mask]\n",
    "\n",
    "    # Create a new FITS file to save the extracted data\n",
    "    # hdu = fits.PrimaryHDU(new_image)\n",
    "    # hdul_new = fits.HDUList([hdu])\n",
    "    hdul_new = hdul\n",
    "    hdul_new[0].data = new_image\n",
    "\n",
    "    # Save the extracted data to a new FITS file\n",
    "    output_file_path = 'fpC-005087-r2-0160_cropped.fit'\n",
    "    hdul_new.writeto(output_file_path, overwrite=True)\n",
    "\n",
    "    ### show before with aplpy\n",
    "    gc = aplpy.FITSFigure(fits_file_path)\n",
    "    gc.show_grayscale(invert=False, stretch='power', exponent=0.5)\n",
    "    plt.show()\n",
    "\n",
    "    ### show result with aplpy\n",
    "    gc = aplpy.FITSFigure(output_file_path)\n",
    "    gc.show_grayscale(invert=False, stretch='power', exponent=0.5)\n",
    "    plt.show()\n"
   ]
  }
 ],
 "metadata": {
  "kernelspec": {
   "display_name": "Python 3 (ipykernel)",
   "language": "python",
   "name": "python3"
  },
  "language_info": {
   "codemirror_mode": {
    "name": "ipython",
    "version": 3
   },
   "file_extension": ".py",
   "mimetype": "text/x-python",
   "name": "python",
   "nbconvert_exporter": "python",
   "pygments_lexer": "ipython3",
   "version": "3.9.12"
  }
 },
 "nbformat": 4,
 "nbformat_minor": 5
}
