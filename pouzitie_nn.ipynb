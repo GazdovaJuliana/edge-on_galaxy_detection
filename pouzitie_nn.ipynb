{
 "cells": [
  {
   "cell_type": "markdown",
   "id": "2b16228f-aa8d-45f5-abe3-3a3e4fa4e5a7",
   "metadata": {},
   "source": [
    "# Spracovanie a analýza dát galaxií s využitím hlbokého učenia"
   ]
  },
  {
   "cell_type": "markdown",
   "id": "b93ea012-b33e-4710-8e38-498c43767983",
   "metadata": {},
   "source": [
    "## Príprava pracovného prostredia pre prácu s YOLO"
   ]
  },
  {
   "cell_type": "markdown",
   "id": "057a6390-8df8-4658-b1fb-bb94686a65b3",
   "metadata": {},
   "source": [
    "Inštalácia YOLO"
   ]
  },
  {
   "cell_type": "code",
   "execution_count": null,
   "id": "1609720e-70b9-424b-a33f-edc1b4f6469a",
   "metadata": {},
   "outputs": [],
   "source": [
    "!pip install opencv-contrib-python\n",
    "!git clone https://github.com/ultralytics/yolov5  # clone repo\n",
    "%cd yolov5\n",
    "%pip install -qr requirements.txt # install dependencies\n",
    "%pip install -q roboflow"
   ]
  },
  {
   "cell_type": "markdown",
   "id": "88d23915-b95d-4cc8-9240-94593b6d2993",
   "metadata": {
    "tags": []
   },
   "source": [
    "## Vytvorenie YAML súboru\n",
    "# Vstupy\n",
    "train: cesta k textovému súboru trénovacích dát \\\n",
    "val: cesta k textovému súboru validačných dát \\\n",
    "nc: počet tried, ktoré model bude rozlišovať \\\n",
    "names: názvy jednotlivých tried zaradom"
   ]
  },
  {
   "cell_type": "markdown",
   "id": "094f7318-9b10-45a9-8393-4637867843ec",
   "metadata": {},
   "source": [
    "Príklad YAML súboru \\\n",
    "train: /home/jovyan/data/lightning/JulianaGazdova/trainbach.txt \\\n",
    "val: /home/jovyan/data/lightning/JulianaGazdova/valbach.txt \\\n",
    "nc: 1 \\\n",
    "names: ['Edge-on galaxy']"
   ]
  },
  {
   "cell_type": "markdown",
   "id": "29948f86-2d29-4eb5-acb0-6c6c04d13d26",
   "metadata": {},
   "source": [
    "### Trénovanie modelu"
   ]
  },
  {
   "cell_type": "markdown",
   "id": "a7564ba1-5ccc-4deb-bc48-bb92df73655f",
   "metadata": {},
   "source": [
    "cesta pre spustenie trénovania: yolov5/train.py \\\n",
    "cesta k yaml súboru vstupných dát: galaxies/galaxies.yaml \\\n",
    "cesta k yaml súboru modelu yolov5s: yolov5/models/yolov5s.yaml"
   ]
  },
  {
   "cell_type": "code",
   "execution_count": null,
   "id": "e1daeab7-9645-4359-9430-e3487188e3cc",
   "metadata": {},
   "outputs": [],
   "source": [
    "!python yolov5/train.py --img 1280 --rect --batch 8 --epochs 50 --data galaxies/galaxies.yaml --weights yolov5/models/yolov5s.yaml --cache --save-period 2 --workers 0"
   ]
  },
  {
   "cell_type": "markdown",
   "id": "a8983caa-b027-4413-9c2a-a611bb992c3d",
   "metadata": {},
   "source": [
    "### Detekcia modelu"
   ]
  },
  {
   "cell_type": "markdown",
   "id": "d7966a9c-cd53-4bc3-966c-c164b1ee5f15",
   "metadata": {},
   "source": [
    "cesta pre spustenie detegovania: yolov5/detect.py \\\n",
    "cesta k yaml súboru vstupných dát: /home/jovyan/data/lightning/JulianaGazdova/yolo/testovacia \\\n",
    "cesta k yaml súboru modelu yolov5s: yolov5/runs/train/exp50/weights/best.pt "
   ]
  },
  {
   "cell_type": "code",
   "execution_count": null,
   "id": "e34f7e9d-d27b-4621-a35b-52a4391a51ad",
   "metadata": {},
   "outputs": [],
   "source": [
    "!python yolov5/detect.py --source /home/jovyan/data/lightning/JulianaGazdova/yolo/testovacia --weights yolov5/runs/train/exp51/weights/best.pt --iou 0.25 --conf 0.36 --img 1280 --save-txt --save-conf"
   ]
  },
  {
   "cell_type": "markdown",
   "id": "ed242598-d65a-4430-88db-5f5ef2d85347",
   "metadata": {},
   "source": [
    "### Validácia modelu"
   ]
  },
  {
   "cell_type": "markdown",
   "id": "55131d81-48b8-462e-a2e8-6fb74c4960c3",
   "metadata": {},
   "source": [
    "cesta pre spustenie validácie: yolov5/val.py \\\n",
    "cesta k yaml súboru vstupných dát:/home/jovyan/data/lightning/JulianaGazdova/yolo/galaxies/galaxies.yaml \\\n",
    "cesta k yaml súboru modelu yolov5s:  yolov5/runs/train/exp51/weights/best.pt\n"
   ]
  },
  {
   "cell_type": "code",
   "execution_count": null,
   "id": "43a64a81-1427-45b3-8017-e3492b31e4f2",
   "metadata": {},
   "outputs": [],
   "source": [
    "!python yolov5/val.py --data /home/jovyan/data/lightning/JulianaGazdova/yolo/galaxies/galaxies.yaml --weights yolov5/runs/train/exp51/weights/best.pt --iou 0.3 --conf 0.24 --img 1280 --save-txt --save-conf --workers 0"
   ]
  },
  {
   "cell_type": "markdown",
   "id": "fbc1d2fa-a492-47a7-9da1-d58735f34ad7",
   "metadata": {},
   "source": [
    "# Príprava pracovného prostredia pre prácu s SCSS-Net"
   ]
  },
  {
   "cell_type": "markdown",
   "id": "802fcde9-1f0e-47d1-92d0-2cdc4f385285",
   "metadata": {},
   "source": [
    "Inštalácia SCSS-Net"
   ]
  },
  {
   "cell_type": "code",
   "execution_count": null,
   "id": "f68d23c9-027a-4c3e-a0ed-1e0e701597d9",
   "metadata": {},
   "outputs": [],
   "source": [
    "!git clone https://github.com/space-lab-sk/scss-net.git\n",
    "\n",
    "!pip install -U albumentations\n",
    "!pip install mega.py\n",
    "!pip install git+https://github.com/mjkvaak/ImageDataAugmentor"
   ]
  },
  {
   "cell_type": "markdown",
   "id": "de3f2550-2c3a-4e5e-864c-b4b10994f469",
   "metadata": {},
   "source": [
    "Inštalácia knižníc"
   ]
  },
  {
   "cell_type": "code",
   "execution_count": null,
   "id": "7208f864-696e-4ada-9026-e73f13e738fe",
   "metadata": {},
   "outputs": [],
   "source": [
    "import sys, os\n",
    "!pip install -r requirements.txt\n",
    "sys.path.append('../scss-net/src')\n"
   ]
  },
  {
   "cell_type": "markdown",
   "id": "30c33208-7c83-4533-9271-bd8feae6df8f",
   "metadata": {},
   "source": [
    "Importovanie knižníc "
   ]
  },
  {
   "cell_type": "code",
   "execution_count": null,
   "id": "507e55ca-06f4-4409-bbd2-32d53d45c254",
   "metadata": {},
   "outputs": [],
   "source": [
    "from mega import Mega\n",
    "import zipfile\n",
    "import glob\n",
    "from datetime import datetime\n",
    "from PIL import Image\n",
    "import matplotlib.pylab as plt\n",
    "from matplotlib.gridspec import GridSpec\n",
    "from sklearn.model_selection import train_test_split\n",
    "import albumentations\n",
    "from ImageDataAugmentor.image_data_augmentor import *\n",
    "from tensorflow.keras.callbacks import ModelCheckpoint\n",
    "\n",
    "from model_scss_net import scss_net\n",
    "from metrics import dice_np, iou_np, dice, iou\n",
    "from utils import plot_imgs, plot_metrics\n",
    "\n",
    "from PIL import Image, ImageEnhance"
   ]
  },
  {
   "cell_type": "markdown",
   "id": "6e794d49-b36e-45e6-8069-8235b0c07203",
   "metadata": {},
   "source": [
    "Nastavenie veľkosti obrázka, batch size a epóch a pomenovanie modelu"
   ]
  },
  {
   "cell_type": "code",
   "execution_count": null,
   "id": "b34cb41d-28cf-4a22-8cfc-7f2cd85a19f6",
   "metadata": {},
   "outputs": [],
   "source": [
    "IMG_SIZE = 64  # resize imgs to 256x256\n",
    "BATCH_SIZE = 20 # set batch size\n",
    "SEED = 20       # set seed for reproducibility\n",
    "EPOCHS = 1000    # Set number of epochs\n",
    "\n",
    "MODEL_NAME = \"model_galaxie_vsetky_1000_ep_drop_6\" # Specify model name\n",
    "model_filename = f\"{MODEL_NAME}.h5\"                # Specify path where to save model"
   ]
  },
  {
   "cell_type": "markdown",
   "id": "db110da2-334c-4568-8753-88caabe8704e",
   "metadata": {},
   "source": [
    "Príprava dát"
   ]
  },
  {
   "cell_type": "code",
   "execution_count": null,
   "id": "13d101ec-43b7-4b0f-862e-f4e42272e15b",
   "metadata": {},
   "outputs": [],
   "source": [
    "imgs = glob.glob(\"data/all_galaxies/*.jpg\")\n",
    "masks = glob.glob(\"data/all_masks/*.jpg\")\n",
    "\n",
    "print(f\"Imgs number = {len(imgs)}\\nMasks number = {len(masks)}\")\n",
    "\n",
    "imgs_list = []\n",
    "masks_list = []\n",
    "for image, mask in zip(imgs, masks):\n",
    "    #ig = Image.open(image)\n",
    "    #enhancer = ImageEnhance.Color(ig)\n",
    "    #enhancer.enhance(25) toto namiesto Image.open(image)\n",
    "    imgs_list.append(np.array(Image.open(image).convert(\"L\").resize((IMG_SIZE, IMG_SIZE))))\n",
    "    masks_list.append(np.array(Image.open(mask).convert(\"L\").resize((IMG_SIZE, IMG_SIZE))))\n",
    "    \n",
    "    \n",
    "x = np.asarray(imgs_list, dtype=np.float32)/255\n",
    "y = np.asarray(masks_list, dtype=np.float32)/255\n",
    "\n",
    "# Reshape to (n_imgs, height, width, channels)\n",
    "x = x.reshape(x.shape[0], x.shape[1], x.shape[2], 1)\n",
    "y = y.reshape(y.shape[0], y.shape[1], y.shape[2], 1)"
   ]
  },
  {
   "cell_type": "markdown",
   "id": "8eec2cf6-c74f-4df9-be30-a1ad3890d5a2",
   "metadata": {},
   "source": [
    "Rozdelenie množín"
   ]
  },
  {
   "cell_type": "code",
   "execution_count": null,
   "id": "1bd09755-ca31-4b57-bbcb-331ecc10a8fe",
   "metadata": {},
   "outputs": [],
   "source": [
    "x_train, x_val, y_train, y_val = train_test_split(x, y, test_size=0.2, random_state=123, shuffle=True)"
   ]
  },
  {
   "cell_type": "markdown",
   "id": "c5435310-a4de-4269-a104-11738334ea92",
   "metadata": {},
   "source": [
    "Vykreslenie obrázkov"
   ]
  },
  {
   "cell_type": "code",
   "execution_count": null,
   "id": "300cf7d7-ed44-422e-aea1-42d4f28d60d4",
   "metadata": {},
   "outputs": [],
   "source": [
    "plot_imgs(imgs=x, masks=y, n_imgs=5).show()"
   ]
  },
  {
   "cell_type": "markdown",
   "id": "0415a31f-740d-4476-b48d-e90cc9a19d9a",
   "metadata": {},
   "source": [
    "### Trénovanie modelu SCSS"
   ]
  },
  {
   "cell_type": "code",
   "execution_count": null,
   "id": "bcc94221-5bb8-477a-a42e-0cb368c51741",
   "metadata": {},
   "outputs": [],
   "source": [
    "# Load model architecture with optimal parameteres\n",
    "model = scss_net( \n",
    "    input_shape,\n",
    "    filters=32,       \n",
    "    layers=4,\n",
    "    batch_norm=True,\n",
    "    drop_prob=0.6)\n",
    "\n",
    "# Compile model\n",
    "model.compile(\n",
    "    optimizer=\"adam\",\n",
    "    loss=\"binary_crossentropy\",  \n",
    "    metrics=[iou, dice])\n",
    "\n",
    "# Set steps parameters acording to size of training set and size of batch\n",
    "STEPS = x_train.shape[0] // BATCH_SIZE        \n",
    "\n",
    "# Set Callback that saves only best weights\n",
    "callback_checkpoint = ModelCheckpoint(\n",
    "    model_filename,\n",
    "    verbose=1,\n",
    "    monitor=\"val_loss\",\n",
    "    save_best_only=True)\n",
    "\n",
    "# Train model\n",
    "history = model.fit(\n",
    "    x_train,\n",
    "    y_train,\n",
    "    steps_per_epoch=STEPS,\n",
    "    epochs=EPOCHS,\n",
    "    validation_data=(x_val, y_val),\n",
    "    callbacks=[callback_checkpoint],\n",
    "    verbose=2)\n",
    "\n",
    "# # Plot training history (Metrics and Loss)\n",
    "plot_metrics(history).show()\n"
   ]
  },
  {
   "cell_type": "markdown",
   "id": "aaf4495b-69bf-4b94-a2a5-8b6151ff7ed5",
   "metadata": {},
   "source": [
    "Uloženie modelu"
   ]
  },
  {
   "cell_type": "code",
   "execution_count": null,
   "id": "ee28f857-37fb-432f-b65a-b22c2b23a417",
   "metadata": {},
   "outputs": [],
   "source": [
    "model.save_weights(model_filename)\n",
    "\n",
    "plot_imgs(imgs=x_val, masks=y_val, predictions=y_pred, n_imgs=5).show()"
   ]
  },
  {
   "cell_type": "markdown",
   "id": "3758bec6-7d2d-4b22-8989-ac21d01390bd",
   "metadata": {},
   "source": [
    "Predikovanie masiek"
   ]
  },
  {
   "cell_type": "code",
   "execution_count": null,
   "id": "4d92006b-776b-40fd-937c-fdeb270a5507",
   "metadata": {},
   "outputs": [],
   "source": [
    "imgs_test = glob.glob(\"data/test_galaxies/*.jpg\")\n",
    "masks_test = glob.glob(\"data/test_masks/*.jpg\")\n",
    "\n",
    "print(f\"Imgs number = {len(imgs_test)}\\nMasks number = {len(masks_test)}\")\n",
    "\n",
    "# Load data and convert imgs to np.array\n",
    "imgs_test_list = []\n",
    "masks_test_list = []\n",
    "for image, mask in zip(imgs_test, masks_test):\n",
    "    imgs_test_list.append(np.array(Image.open(image).convert(\"L\").resize((IMG_SIZE, IMG_SIZE))))\n",
    "    masks_test_list.append(np.array(Image.open(mask).convert(\"L\").resize((IMG_SIZE, IMG_SIZE))))\n",
    "\n",
    "# Normalization from (0; 255) to (0; 1)\n",
    "x_test = np.asarray(imgs_test_list, dtype=np.float32)/255\n",
    "y_test = np.asarray(masks_test_list, dtype=np.float32)/255\n",
    "\n",
    "# Reshape to (n_imgs, height, width, channels)\n",
    "x_test = x_test.reshape(x_test.shape[0], x_test.shape[1], x_test.shape[2], 1)\n",
    "y_test = y_test.reshape(y_test.shape[0], y_test.shape[1], y_test.shape[2], 1)\n",
    "\n",
    "y_pred = model.predict(x_test)  \n",
    "plot_imgs(imgs=x_test, masks=y_test, predictions=y_pred, n_imgs=20).show()"
   ]
  },
  {
   "cell_type": "markdown",
   "id": "4c75eb96-ed5f-418b-b7ee-1100964d0009",
   "metadata": {},
   "source": [
    "Vyhodnotenie metrík"
   ]
  },
  {
   "cell_type": "code",
   "execution_count": null,
   "id": "b0adaa12-5c91-4b94-8d1d-1d4852175c8f",
   "metadata": {},
   "outputs": [],
   "source": [
    "y_pred_bin = np.where(y_pred > 0.83, 1, 0)  # Binarize predicted values\n",
    "\n",
    "dice = np.round(dice_np(y_test, y_pred), 4)\n",
    "iou_test = np.round(iou_np(y_test, y_pred), 4)\n",
    "\n",
    "dice_tresh = np.round(dice_np(y_test, y_pred_bin), 4)\n",
    "iou_test_tresh = np.round(iou_np(y_test, y_pred_bin), 4)\n",
    "\n",
    "print(f\"Test:\\nDice: {dice} Dice_tresh: {dice_tresh}\\n IoU: {iou_test} IoU_tresh: {iou_test_tresh}\\n\")"
   ]
  }
 ],
 "metadata": {
  "kernelspec": {
   "display_name": "Python 3 (ipykernel)",
   "language": "python",
   "name": "python3"
  },
  "language_info": {
   "codemirror_mode": {
    "name": "ipython",
    "version": 3
   },
   "file_extension": ".py",
   "mimetype": "text/x-python",
   "name": "python",
   "nbconvert_exporter": "python",
   "pygments_lexer": "ipython3",
   "version": "3.9.12"
  }
 },
 "nbformat": 4,
 "nbformat_minor": 5
}
